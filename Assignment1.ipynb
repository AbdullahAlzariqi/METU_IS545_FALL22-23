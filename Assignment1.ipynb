{
 "cells": [
  {
   "cell_type": "markdown",
   "metadata": {},
   "source": [
    "### **IS 545 Object Oriented Programming and Data Structures**\n",
    "\n",
    "# Assignment 1\n",
    "\n",
    "Upload your solutions (as an **ipynb** file) to the [odtuclass](https://odtuclass.metu.edu.tr/) web site for the course.\n",
    "\n",
    "**Deadline:** November 3rd, 2022 23:59\n",
    "\n",
    "**Late submissions:** Will incur a -1% penalty per hour after the deadline.\n",
    "\n",
    "You are expected to work **by yourselves**,  <u>NOT in groups</u>. You are also be expected to follow **the academic integrity rules**.\n",
    "\n",
    "## Requirements\n",
    "- You are not allowed to copy code snippets from the internet, these attempts will get **zero points** for the related question.\n",
    "- Do not import any external library unless otherwise specified! Good news is, for your first assignment those are imported for you.\n",
    "- Make sure you write your code starting from the next line after phrases like `YOUR CODE HERE` or `YOUR ANSWER HERE`\n",
    "- Do not change any code given in the questions other than the area described above\n",
    "\n",
    "## Important!\n",
    "- Be sure to delete ```raise NotImplementedError()``` statement before writing your solution. Be sure to run your code and not have any exceptions unless the question is about raising an exception.\n"
   ]
  },
  {
   "cell_type": "markdown",
   "metadata": {},
   "source": [
    "## Prerequisites\n",
    "Read the tutorial in python.org web site and answer the questions.\n",
    "\n",
    "https://docs.python.org/3/tutorial/\n"
   ]
  },
  {
   "cell_type": "markdown",
   "metadata": {},
   "source": [
    "## Student Info (fill the fields below)\n",
    "\n",
    "Name: Abdullah Alzariqi\n",
    "\n",
    "ID: 2645166"
   ]
  },
  {
   "cell_type": "markdown",
   "metadata": {},
   "source": [
    "## Q01 (5 pts)\n",
    "Where does the name of the language \"Python\" come from? Write your answer as a comment line in Python language. Length of **that** comment line should not exceed 100 characters"
   ]
  },
  {
   "cell_type": "code",
   "execution_count": 1,
   "metadata": {},
   "outputs": [],
   "source": [
    "# The language was named after \"Monty Python\", a comedy airing on the BBC.\n",
    "\n",
    "# ========================================"
   ]
  },
  {
   "cell_type": "markdown",
   "metadata": {},
   "source": [
    "## Q02 (5 pts)\n",
    "Declare a variable called **first_name** and assign it to a **string literal** containing your name."
   ]
  },
  {
   "cell_type": "code",
   "execution_count": 2,
   "metadata": {},
   "outputs": [],
   "source": [
    "first_name = 'Abdullah'\n",
    "# ========================================"
   ]
  },
  {
   "cell_type": "markdown",
   "metadata": {},
   "source": [
    "## Q03 (5 pts)\n",
    "Declare a list with the name **list_by_literal** and assign it to ordered **positive integers** that are multiples of 5 and less than 33 using **list literal**."
   ]
  },
  {
   "cell_type": "code",
   "execution_count": 3,
   "metadata": {},
   "outputs": [
    {
     "name": "stdout",
     "output_type": "stream",
     "text": [
      "[5, 10, 15, 20, 25, 30]\n"
     ]
    }
   ],
   "source": [
    "list_by_literal = list( range(5,33,5))\n",
    "print(list_by_literal)\n",
    "# ========================================"
   ]
  },
  {
   "cell_type": "code",
   "execution_count": 4,
   "metadata": {},
   "outputs": [],
   "source": [
    "# check your answer satisfies the following tests\n",
    "assert type(list_by_literal) == list"
   ]
  },
  {
   "cell_type": "markdown",
   "metadata": {},
   "source": [
    "## Q04 (5 pts)\n",
    "Declare a list with the name **list_by_range** and assign it to ordered **positive integers** that are multiples of 5 and less than 33 using **list constructor with range function as its argument**.\n"
   ]
  },
  {
   "cell_type": "code",
   "execution_count": 5,
   "metadata": {},
   "outputs": [
    {
     "name": "stdout",
     "output_type": "stream",
     "text": [
      "[5, 10, 15, 20, 25, 30]\n"
     ]
    }
   ],
   "source": [
    "# ============ YOUR CODE HERE ============\n",
    "list_by_range = list( range(5,33,5))\n",
    "print(list_by_literal)\n",
    "# ========================================"
   ]
  },
  {
   "cell_type": "code",
   "execution_count": 6,
   "metadata": {},
   "outputs": [],
   "source": [
    "# check your answer satisfies the following tests\n",
    "assert type(list_by_range) == list"
   ]
  },
  {
   "cell_type": "markdown",
   "metadata": {},
   "source": [
    "## Q05 (5 pts)\n",
    "Declare a list with the name **list_by_comprehension** and assign it to ordered **positive integers** that are multiples of 5 and less than 33 using **list comprehension** syntax."
   ]
  },
  {
   "cell_type": "code",
   "execution_count": 7,
   "metadata": {},
   "outputs": [
    {
     "name": "stdout",
     "output_type": "stream",
     "text": [
      "[5, 10, 15, 20, 25, 30]\n"
     ]
    }
   ],
   "source": [
    "# ============ YOUR CODE HERE ============\n",
    "list_by_comprehension = [x for x in range(5,33 , 5)]\n",
    "print(list_by_range)\n",
    "# ========================================"
   ]
  },
  {
   "cell_type": "code",
   "execution_count": 8,
   "metadata": {},
   "outputs": [],
   "source": [
    "# check your answer satisfies the following tests\n",
    "assert type(list_by_comprehension) == list"
   ]
  },
  {
   "cell_type": "markdown",
   "metadata": {},
   "source": [
    "## Q06 (5 pts)\n",
    "Declare a frozenset with the name **fset_by_range** and assign it to the odd positive integers between 21 and 33 (both included) using **range** function"
   ]
  },
  {
   "cell_type": "code",
   "execution_count": 9,
   "metadata": {},
   "outputs": [
    {
     "name": "stdout",
     "output_type": "stream",
     "text": [
      "frozenset({32, 33, 21, 22, 23, 24, 25, 26, 27, 28, 29, 30, 31})\n"
     ]
    }
   ],
   "source": [
    "# ============ YOUR CODE HERE ============\n",
    "from os import fsencode\n",
    "# an immutable set that can be used either as a key in a dictionary or as elements in other sets \n",
    "\n",
    "fset_by_range = frozenset( range(21 , 34))\n",
    "print(fset_by_range)\n",
    "# ========================================"
   ]
  },
  {
   "cell_type": "code",
   "execution_count": 10,
   "metadata": {},
   "outputs": [],
   "source": [
    "# check your answer satisfies the following tests\n",
    "assert type(fset_by_range) == frozenset"
   ]
  },
  {
   "cell_type": "markdown",
   "metadata": {},
   "source": [
    "## Q07 (10 pts)\n",
    "Write a code block using **while statement** that appends the following integers into the list **list_q7** in the given order. (Each iteration of the loop should append a single value only)\n",
    "\n",
    "30,25,20,15,10,5\n"
   ]
  },
  {
   "cell_type": "code",
   "execution_count": 11,
   "metadata": {},
   "outputs": [
    {
     "data": {
      "text/plain": [
       "[30, 25, 20, 15, 10, 5]"
      ]
     },
     "execution_count": 11,
     "metadata": {},
     "output_type": "execute_result"
    }
   ],
   "source": [
    "list_q7 = []\n",
    "# hint: you can use list.append(99) statement to append 99 to the end\n",
    "# ============ YOUR CODE HERE ============\n",
    "app = [ 30,25,20,15,10,5 ]\n",
    "i=0\n",
    "while i < len(app):\n",
    "    list_q7.append(app[i])\n",
    "    i = i+1\n",
    "# ========================================\n",
    "list_q7"
   ]
  },
  {
   "cell_type": "code",
   "execution_count": 12,
   "metadata": {},
   "outputs": [],
   "source": [
    "# check your answer satisfies the following tests\n",
    "assert type(list_q7) == list"
   ]
  },
  {
   "cell_type": "markdown",
   "metadata": {},
   "source": [
    "## Q08 (10 pts)\n",
    "Define a Python function that gets a test score as input and returns corresponding grade as output according to the following table using **if/elif/else statements**. Note: 80-90:  [80,90) meaning that 90 is excluded. Check `intervals in math open close` in your favorite search engine if required:\n",
    "\n",
    "|Score|Letter Grade|\n",
    "|----------|------------|\n",
    "|90 and above|A|\n",
    "|80-90|B|\n",
    "|70-80|C|\n",
    "|60-70|D|\n",
    "|otherwise|F|\n",
    "This function should raise **ValueError** if the percentage input is not in the range of 0-100\n"
   ]
  },
  {
   "cell_type": "code",
   "execution_count": 13,
   "metadata": {},
   "outputs": [],
   "source": [
    "from ast import Raise\n",
    "\n",
    "\n",
    "def score_to_grade(pct):\n",
    "    # ============ YOUR CODE HERE ============\n",
    "    if pct >= 90:\n",
    "         score_to_grade = 'A'\n",
    "    elif pct <90 and pct >= 80:\n",
    "         score_to_grade = 'B'\n",
    "    elif pct <80 and pct >= 70:\n",
    "         score_to_grade = 'C'\n",
    "    elif pct <70 and pct >= 60:\n",
    "         score_to_grade = 'D'\n",
    "    elif pct <0 or pct > 100:\n",
    "        raise ValueError\n",
    "    else: \n",
    "         score_to_grade= 'F'\n",
    "    \n",
    "    return score_to_grade\n",
    "    # ========================================\n"
   ]
  },
  {
   "cell_type": "code",
   "execution_count": 14,
   "metadata": {},
   "outputs": [],
   "source": [
    "# check your answer satisfies the following tests\n",
    "assert score_to_grade(100.0) == \"A\"\n",
    "assert score_to_grade(0.0) == \"F\"\n",
    "\n"
   ]
  },
  {
   "cell_type": "markdown",
   "metadata": {},
   "source": [
    "## Q09 (10 pts)\n",
    "Write a function with signature **sort_str(s)** which takes and input string and returns the sorted version of its characters. for example, if input argument is 'hello 545', the return value should be ' 455ehllo'. You can make use core python functions that does not require an ```import``` statement or code sorting algorithms by yourselves."
   ]
  },
  {
   "cell_type": "code",
   "execution_count": 115,
   "metadata": {},
   "outputs": [],
   "source": [
    "from numpy import sort\n",
    "\n",
    "\n",
    "def sort_str(s):\n",
    "    # ============ YOUR CODE HERE ============\n",
    "    sorted = []\n",
    "    for  x in s:\n",
    "    # 'i' will yield the index of the current letter and 'x' will yield the current character \n",
    "        if len(sorted) == 0:\n",
    "            sorted.append(x)\n",
    "            continue\n",
    "        los = len(sorted)\n",
    "\n",
    "        # Constructing a sorted list of the first three elements \n",
    "        \n",
    "        if len(sorted) == 1 and x >= sorted[0]:\n",
    "            sorted.append(x)\n",
    "            continue\n",
    "        elif len(sorted) == 1 and x <= sorted[0]:\n",
    "            sorted.insert(0,x)\n",
    "            continue\n",
    "        #First element implemented \n",
    "\n",
    "        elif len(sorted) == 2:\n",
    "            if x > sorted[0] and x <= sorted[1]:\n",
    "                sorted.insert(1,x)\n",
    "                continue\n",
    "            if x <= sorted[0] :\n",
    "                sorted.insert(0,x)\n",
    "                continue\n",
    "            if x > sorted[1]:\n",
    "                sorted.append(x)\n",
    "                continue\n",
    "\n",
    "        \n",
    "        \n",
    "        #  at this point we will have three items in our list \n",
    "\n",
    "        if len(sorted) > 2:\n",
    "            if x >= sorted[-1]:\n",
    "                sorted.append(x)\n",
    "                continue\n",
    "            elif x<= sorted[0]:\n",
    "                sorted.insert(0,x)\n",
    "                continue\n",
    "            else:\n",
    "                if x == sorted[len(sorted)//2]:\n",
    "                    sorted.insert(len(sorted)//2 , x)\n",
    "                    continue\n",
    "        \n",
    "    \n",
    "        I = 0\n",
    "        while I<=len(s)+1:\n",
    "            if x<=sorted[I]:\n",
    "                sorted.insert(I,x)\n",
    "                I = len(s)+2\n",
    "            else:\n",
    "                I= I+1\n",
    "\n",
    "        continue\n",
    "    return ''.join(sorted)\n",
    "\n",
    "\n",
    "        \n",
    "            \n",
    "            \n",
    "\n",
    "\n",
    "        \n",
    "    \n",
    "\n",
    "\n",
    "\n",
    "        \n",
    "        \n",
    "    # ========================================"
   ]
  },
  {
   "cell_type": "code",
   "execution_count": 116,
   "metadata": {},
   "outputs": [
    {
     "data": {
      "text/plain": [
       "' 455ehllo'"
      ]
     },
     "execution_count": 116,
     "metadata": {},
     "output_type": "execute_result"
    }
   ],
   "source": [
    "sort_str('hello 545')"
   ]
  },
  {
   "cell_type": "code",
   "execution_count": 117,
   "metadata": {},
   "outputs": [],
   "source": [
    "# check your answer satisfies the following tests\n",
    "assert sort_str('hello 545') == ' 455ehllo'"
   ]
  },
  {
   "cell_type": "markdown",
   "metadata": {},
   "source": [
    "## Q10 (10 pts)\n",
    "Write an expression using Python’s **list comprehension** syntax to produce the list \n",
    "~~~~Python\n",
    "[25, 49, 64, 100, 121, 169, 196, 256, 289]\n",
    "~~~~\n",
    "and assign this object to a variable **list_q10**.\n",
    "\n",
    "Hint: these numbers are squares of an arithmetic sequence with some irregularity applied such as [.., 10, 11, 13, 14, ..]."
   ]
  },
  {
   "cell_type": "code",
   "execution_count": 119,
   "metadata": {},
   "outputs": [
    {
     "name": "stdout",
     "output_type": "stream",
     "text": [
      "[25, 49, 64, 100, 121, 169, 196, 256, 289]\n"
     ]
    }
   ],
   "source": [
    "# ============ YOUR CODE HERE ============\n",
    "list_q10 = [x*x for x in [5,7,8,10,11,13,14,16,17]]\n",
    "\n",
    "print(list_q10)\n",
    "# ========================================"
   ]
  },
  {
   "cell_type": "code",
   "execution_count": 120,
   "metadata": {},
   "outputs": [],
   "source": [
    "# check your answer satisfies the following tests\n",
    "assert type(list_q10) == list"
   ]
  },
  {
   "cell_type": "markdown",
   "metadata": {},
   "source": [
    "## Q11 (10 pts)\n",
    "Write Python function **triangular(N)** that creates a triangular 2D list of integers. You have to fill the item `(row,col)` of the list with `row * col` where `1 <= row <= N` and `row >= col`.\n",
    "\n",
    "Note that you **should not print a string**, you should **create a list object**!\n",
    "\n",
    "For example, with N = 4, the return value of the function should be the following list of lists:\n",
    "~~~~\n",
    "[\n",
    "[1], \n",
    "[2, 4], \n",
    "[3, 6, 9], \n",
    "[4, 8, 12, 16]\n",
    "]\n",
    "~~~~\n"
   ]
  },
  {
   "cell_type": "code",
   "execution_count": 149,
   "metadata": {},
   "outputs": [],
   "source": [
    "def triangular(N):\n",
    "    # ============ YOUR CODE HERE ============\n",
    "    tri =[]\n",
    "    for i in range(N+1): \n",
    "        t=[]\n",
    "        j=1 \n",
    "        while j<=i:\n",
    "            t.append(j*i)\n",
    "            j=j+1\n",
    "        tri.append(t)\n",
    "    tri.remove([])\n",
    "    return(tri)\n",
    "\n",
    "    \n",
    "\n",
    "    # ========================================"
   ]
  },
  {
   "cell_type": "code",
   "execution_count": 150,
   "metadata": {},
   "outputs": [
    {
     "data": {
      "text/plain": [
       "[[1],\n",
       " [2, 4],\n",
       " [3, 6, 9],\n",
       " [4, 8, 12, 16],\n",
       " [5, 10, 15, 20, 25],\n",
       " [6, 12, 18, 24, 30, 36],\n",
       " [7, 14, 21, 28, 35, 42, 49],\n",
       " [8, 16, 24, 32, 40, 48, 56, 64],\n",
       " [9, 18, 27, 36, 45, 54, 63, 72, 81],\n",
       " [10, 20, 30, 40, 50, 60, 70, 80, 90, 100]]"
      ]
     },
     "execution_count": 150,
     "metadata": {},
     "output_type": "execute_result"
    }
   ],
   "source": [
    "triangular(10)"
   ]
  },
  {
   "cell_type": "code",
   "execution_count": 142,
   "metadata": {},
   "outputs": [],
   "source": [
    "# check your answer satisfies the following tests\n",
    "assert type(triangular(10)) == list"
   ]
  },
  {
   "cell_type": "markdown",
   "metadata": {},
   "source": [
    "## Q12 (10 pts) (Allowed modules: random)\n",
    "Write a function **roll_two_dice(trick)**\n",
    "\n",
    "trick is a boolean parameter; \n",
    "\n",
    "When trick is false the return value should be a tuple of two random numbers between 1 and 6 for a pair of fair dice.\n",
    "\n",
    "When trick is true, the sum of two dice values should be seven and the first value in the tuple should be less than the second value, i.e. the result should be one of the following combinations randomly:\n",
    "\n",
    "(1,6),(2,5),(3,4)"
   ]
  },
  {
   "cell_type": "code",
   "execution_count": 160,
   "metadata": {},
   "outputs": [],
   "source": [
    "import random as rd\n",
    "\n",
    "def roll_two_dice(trick):\n",
    "    # ============ YOUR CODE HERE ============\n",
    "    if trick == False:\n",
    "        t=(rd.randint(1,6),rd.randint(1,6))\n",
    "    else:\n",
    "        tru =True\n",
    "        while tru:\n",
    "            t=(rd.randint(1,6),rd.randint(1,6))\n",
    "            if t[0] + t[1] ==7 and t[0] < t[1]:\n",
    "                tru = False \n",
    "            else:\n",
    "                tru = True\n",
    "    return t\n",
    "\n",
    "    # ========================================"
   ]
  },
  {
   "cell_type": "code",
   "execution_count": 169,
   "metadata": {},
   "outputs": [],
   "source": [
    "# check your answer satisfies the following tests\n",
    "t = roll_two_dice(True)\n",
    "assert t[0] + t[1] == 7\n",
    "assert t[0] < t[1]"
   ]
  },
  {
   "cell_type": "markdown",
   "metadata": {},
   "source": [
    "## Q13 (10 pts) (Allowed modules: math)\n",
    "Write a function **monthly_payment(loan, months, rate)** that returns fixed monthly payment to amortize a mortgage loan, where\n",
    "- **loan** is the total amount of loan in liras\n",
    "- **months** is the number of months to pay\n",
    "- **rate** is the monthly(!) interest rate as **percentage** (%)\n",
    "\n",
    "\n",
    "The following formula is used to calculate the fixed monthly payment (P) required to fully amortize a loan of _L_ liras over a term of _n_ months at a monthly interest rate of _c_ (think of converting percentage to a meaningful value before adding it to 1).\n",
    "\n",
    "$$\n",
    "\tP = L \\times c \\times \\frac{(1 + c)^n}{(1 + c)^n - 1} \n",
    "$$\n",
    "assuming $ c \\neq 0 $\n",
    "\n",
    "Remember to handle the case that the interest rate is zero as well!\n"
   ]
  },
  {
   "cell_type": "code",
   "execution_count": 195,
   "metadata": {},
   "outputs": [],
   "source": [
    "import math\n",
    "from tkinter import EXCEPTION\n",
    "\n",
    "def monthly_payment(loan, months, rate):\n",
    "    # ============ YOUR CODE HERE ============\n",
    "    if rate == 0:\n",
    "        raise Exception (\"Interest rate cannot be Zero\")\n",
    "    else:\n",
    "        rate_p = rate/100\n",
    "        P = loan * rate_p * ((1+rate_p)**months / ((1+rate_p)**months - 1))\n",
    "    return P\n",
    "\n",
    "    # ========================================"
   ]
  },
  {
   "cell_type": "code",
   "execution_count": 197,
   "metadata": {},
   "outputs": [
    {
     "data": {
      "text/plain": [
       "1299.4569169949114"
      ]
     },
     "execution_count": 197,
     "metadata": {},
     "output_type": "execute_result"
    }
   ],
   "source": [
    "monthly_payment(100000,120,0.8)"
   ]
  },
  {
   "cell_type": "code",
   "execution_count": 198,
   "metadata": {},
   "outputs": [],
   "source": [
    "# check your answer satisfies the following tests\n",
    "# for 10 years loan of 100 thousand liras with monthly 0.80% interest rate\n",
    "assert 1299.5-monthly_payment(100000,120,0.8) < 0.1"
   ]
  },
  {
   "cell_type": "markdown",
   "metadata": {},
   "source": [
    "## Q14 (0 pts, exercise)\n",
    "Write a function with signature **minxy(polynomial, xrng)** where\n",
    "\n",
    "polynomial is a tuple of (a0,a1,a2,..) with the coefficients of a polynomial function a0 + a1 x + a2 x^2 + ....\n",
    "\n",
    "xrng is an iteration for x of floating point values such as [0.1,0.2,0.3,....., 4.9, 5.0}\n",
    "\n",
    "For example:\n",
    "\n",
    "if the polynomial is (-12,-23,-9,3,1) \n",
    "\n",
    "and xrng is (-5.0,-4.9,...,-0.1,0,0.1,...,4.9,5.0))\n",
    "\n",
    "The function y = x^4+3x^3-9x^2-23x-12 is constructed in that range as shown in the following plot"
   ]
  },
  {
   "cell_type": "code",
   "execution_count": null,
   "metadata": {},
   "outputs": [],
   "source": [
    "#THIS ROUTINE PLOTS THE EXAMPLE DESCRIBED ABOVE\n",
    "import matplotlib.pyplot as plt\n",
    "x=[i/10.0 for i in range(-50,50)]\n",
    "y=[x**4+3*x**3-9*x**2-23*x-12 for x in x]\n",
    "plt.plot(x,y)"
   ]
  },
  {
   "cell_type": "markdown",
   "metadata": {},
   "source": [
    "The return value of the minxy function should be a tuple of (x_res,y_res) where y_res is the minimum value in the range defined by xrng and x_res is the x value of the minimum y.\n",
    "The return value should be (1.9,-54.5809) for this example."
   ]
  },
  {
   "cell_type": "code",
   "execution_count": null,
   "metadata": {},
   "outputs": [],
   "source": [
    "def _poly(polynomial, x):\n",
    "    \"\"\" \n",
    "    Utility function to be used in minxy\n",
    "    Computes y at x for given coefficients in polynomial\n",
    "    \"\"\"\n",
    "    # ============ YOUR CODE HERE ============\n",
    "    raise NotImplementedError()\n",
    "    # ========================================\n",
    "\n",
    "def minxy(polynomial, xrng):\n",
    "    # ============ YOUR CODE HERE ============\n",
    "    raise NotImplementedError()\n",
    "    # ========================================\n"
   ]
  },
  {
   "cell_type": "code",
   "execution_count": null,
   "metadata": {},
   "outputs": [],
   "source": [
    "# check your answer satisfies the following tests\n",
    "assert 38 == _poly((4,5,6),2) # 4 + 5*2 + 6*(2**2)\n",
    "mx,my = minxy((-12,-23,-9,3,1), (i*0.1 for i in range(-50,50)))\n",
    "assert mx - 1.9 < 0.01\n",
    "assert my - (-54.59) < 0.01"
   ]
  },
  {
   "cell_type": "code",
   "execution_count": null,
   "metadata": {},
   "outputs": [],
   "source": []
  }
 ],
 "metadata": {
  "kernelspec": {
   "display_name": "Python 3.8.5 ('base')",
   "language": "python",
   "name": "python3"
  },
  "language_info": {
   "codemirror_mode": {
    "name": "ipython",
    "version": 3
   },
   "file_extension": ".py",
   "mimetype": "text/x-python",
   "name": "python",
   "nbconvert_exporter": "python",
   "pygments_lexer": "ipython3",
   "version": "3.8.5"
  },
  "vscode": {
   "interpreter": {
    "hash": "88279d2366fe020547cde40dd65aa0e3aa662a6ec1f3ca12d88834876c85e1a6"
   }
  }
 },
 "nbformat": 4,
 "nbformat_minor": 2
}
